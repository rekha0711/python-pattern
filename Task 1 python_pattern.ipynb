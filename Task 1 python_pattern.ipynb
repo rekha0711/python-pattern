{
 "cells": [
  {
   "cell_type": "markdown",
   "id": "57c46190",
   "metadata": {},
   "source": [
    "`1` Task- 1\n",
    "\n",
    "`2` Registration I'd: SIRSS2131**\n",
    "\n",
    "`3` Name: REKHA"
   ]
  },
  {
   "cell_type": "code",
   "execution_count": 1,
   "id": "10557b4f",
   "metadata": {},
   "outputs": [
    {
     "name": "stdout",
     "output_type": "stream",
     "text": [
      "Enter the number of rows: 5\n",
      "55555\n",
      "5555\n",
      "555\n",
      "55\n",
      "5\n"
     ]
    }
   ],
   "source": [
    "num = int(input(\"Enter the number of rows: \"))\n",
    "for i in range(num,0,-1):\n",
    "    for j in range(0,num-i):\n",
    "          print(end=\"\")\n",
    "    for j in range(0,i):\n",
    "        print(\"5\",end=\"\")\n",
    "    print()"
   ]
  },
  {
   "cell_type": "code",
   "execution_count": 2,
   "id": "8164987d",
   "metadata": {},
   "outputs": [
    {
     "name": "stdout",
     "output_type": "stream",
     "text": [
      "012345\n",
      "01234\n",
      "0123\n",
      "012\n",
      "01\n",
      "0\n"
     ]
    }
   ],
   "source": [
    "var = 6\n",
    "for x in range(var,0,-1):\n",
    "    for y in range(x):\n",
    "        print(y,end=\"\")\n",
    "    print()"
   ]
  },
  {
   "cell_type": "code",
   "execution_count": 3,
   "id": "57459a3d",
   "metadata": {},
   "outputs": [
    {
     "name": "stdout",
     "output_type": "stream",
     "text": [
      "\n",
      "1\n",
      "33\n",
      "555\n",
      "7777\n",
      "99999\n"
     ]
    }
   ],
   "source": [
    "var = -1\n",
    "for x in range(6):\n",
    "    for y in range(x):\n",
    "        print(var,end='')\n",
    "    var = var + 2\n",
    "    print('')"
   ]
  },
  {
   "cell_type": "code",
   "execution_count": 4,
   "id": "a0a1f2d2",
   "metadata": {},
   "outputs": [
    {
     "name": "stdout",
     "output_type": "stream",
     "text": [
      "1 \n",
      "2 1 \n",
      "3 2 1 \n",
      "4 3 2 1 \n",
      "5 4 3 2 1 \n"
     ]
    }
   ],
   "source": [
    "i=1\n",
    "while(i<=5): \n",
    "    j=i\n",
    "    while(j>=1):\n",
    "        print(j, end = ' ')\n",
    "        j=j-1\n",
    "    i=i+1\n",
    "    print(\"\") \n"
   ]
  },
  {
   "cell_type": "code",
   "execution_count": 5,
   "id": "373db9a7",
   "metadata": {},
   "outputs": [
    {
     "name": "stdout",
     "output_type": "stream",
     "text": [
      "1 \n",
      "2 3 \n",
      "4 5 6 \n",
      "7 8 9 10 \n"
     ]
    }
   ],
   "source": [
    "i = 1\n",
    "k = 1\n",
    "while(i<=4):\n",
    "    j=i\n",
    "    for x in range(0,j,1):\n",
    "        print(k,end=' ')\n",
    "        k = k + 1\n",
    "    j = j + 1\n",
    "    print()\n",
    "    i = i + 1\n"
   ]
  },
  {
   "cell_type": "code",
   "execution_count": 6,
   "id": "55bb19c2",
   "metadata": {},
   "outputs": [
    {
     "name": "stdout",
     "output_type": "stream",
     "text": [
      "\n",
      "1\n",
      "21\n",
      "321\n",
      "4321\n",
      "54321\n",
      " \n"
     ]
    }
   ],
   "source": [
    "for x in range(6):\n",
    "    for y in range(x,0,-1):\n",
    "        print(y,end='')\n",
    "    print('')\n",
    "for i in range(1):\n",
    "    for j in range(0, i+1):\n",
    "        print(' ', end='')\n",
    "    C = 1\n",
    "    for j in range(1, i+1):\n",
    "        print(' ', C, sep='', end='')\n",
    "        C = C * (i - j) // j\n",
    "    print()"
   ]
  },
  {
   "cell_type": "code",
   "execution_count": 7,
   "id": "c46401d4",
   "metadata": {},
   "outputs": [
    {
     "name": "stdout",
     "output_type": "stream",
     "text": [
      "1 2 3 4 5 \n",
      "2 2 3 4 5 \n",
      "3 3 3 4 5 \n",
      "4 4 4 4 5 \n",
      "5 5 5 5 5 \n"
     ]
    }
   ],
   "source": [
    "var = 5\n",
    "inc = 0\n",
    "for x in range(var,0,-1):\n",
    "    for y in range(var):\n",
    "        if(inc==0):\n",
    "            print(y+1,end=' ')\n",
    "        if(inc!=0):\n",
    "            if(y<inc):\n",
    "                y = inc\n",
    "            print(y+1,end=' ')\n",
    "    inc = inc + 1\n",
    "    print('')\n"
   ]
  },
  {
   "cell_type": "code",
   "execution_count": 8,
   "id": "63e0e28d",
   "metadata": {},
   "outputs": [
    {
     "name": "stdout",
     "output_type": "stream",
     "text": [
      "1 \n",
      "2 4 \n",
      "3 6 9 \n",
      "4 8 12 16 \n",
      "5 10 15 20 25 \n",
      "6 12 18 24 30 36 \n",
      "7 14 21 28 35 42 49 \n",
      "8 16 24 32 40 48 56 64 \n"
     ]
    }
   ],
   "source": [
    "i = 1\n",
    "k = 1\n",
    "while(i<=8):\n",
    "    m = 1\n",
    "    j=i\n",
    "    for x in range(0,j,1):\n",
    "        print(k*(m),end=' ')\n",
    "        m = m + 1   \n",
    "    j = j + 1\n",
    "    k = k + 1\n",
    "    print()\n",
    "    i = i + 1\n"
   ]
  },
  {
   "cell_type": "code",
   "execution_count": 9,
   "id": "bbe7dbe8",
   "metadata": {},
   "outputs": [
    {
     "name": "stdout",
     "output_type": "stream",
     "text": [
      "      * * * * * * * \r\n",
      "       * * * * * * \r\n",
      "        * * * * * \r\n",
      "         * * * * \r\n",
      "          * * * \r\n",
      "           * * \r\n",
      "            * \r\n"
     ]
    }
   ],
   "source": [
    "var =  7\n",
    "k = var - 1\n",
    "for x in range(var,0,-1):\n",
    "    for y in range(0,k):\n",
    "        print(end=' ')\n",
    "    k = k + 1\n",
    "\n",
    "    for y in range(var,0,-1):\n",
    "        print(\"* \",end=\"\")\n",
    "    var = var - 1\n",
    "    print(\"\\r\")\n",
    "\n"
   ]
  },
  {
   "cell_type": "code",
   "execution_count": 10,
   "id": "3781f559",
   "metadata": {},
   "outputs": [
    {
     "name": "stdout",
     "output_type": "stream",
     "text": [
      "      * \n",
      "     * * \n",
      "    * * * \n",
      "   * * * * \n",
      "  * * * * * \n",
      " * * * * * * \n",
      "* * * * * * * \n"
     ]
    }
   ],
   "source": [
    "var =  7\n",
    "k = var - 1\n",
    "for x in range(0, var):\n",
    "    for y in range(0,k):\n",
    "         print(end=' ')\n",
    "    k = k - 1\n",
    "\n",
    "    for y in range(0, x+1):\n",
    "        print(\"* \",end=\"\")\n",
    "    print(\"\\r\")"
   ]
  },
  {
   "cell_type": "code",
   "execution_count": 11,
   "id": "29e67d33",
   "metadata": {},
   "outputs": [
    {
     "name": "stdout",
     "output_type": "stream",
     "text": [
      "* \n",
      "* * \n",
      "* * * \n",
      "* * * * \n",
      "* * * * * \n",
      "* * * * * * \n",
      "* * * * * * * \n",
      " \n",
      "* * * * * * * \n",
      "* * * * * * \n",
      "* * * * * \n",
      "* * * * \n",
      "* * * \n",
      "* * \n",
      "* \n"
     ]
    }
   ],
   "source": [
    "var =  7\n",
    "for x in range(0, var):\n",
    "    for y in range(0, x+1):\n",
    "        print(\"* \",end=\"\")\n",
    "    print(\"\\r\")\n",
    "print(\" \")\n",
    "for x in range(0, var):\n",
    "    for y in range(var,0,-1):\n",
    "        print(\"* \",end=\"\")\n",
    "    var = var - 1\n",
    "    print(\"\\r\")"
   ]
  },
  {
   "cell_type": "code",
   "execution_count": 12,
   "id": "80125d1b",
   "metadata": {},
   "outputs": [
    {
     "name": "stdout",
     "output_type": "stream",
     "text": [
      "* \r\n",
      "* * \r\n",
      "* * * \r\n",
      "* * * * \r\n",
      "* * * * * \r\n",
      "* * * * \r\n",
      "* * * \r\n",
      "* * \r\n",
      "* \r\n"
     ]
    }
   ],
   "source": [
    "var = 5\n",
    "for x in range(0,var):\n",
    "    for y in range(0,x+1):\n",
    "        print(\"* \",end=\"\")\n",
    "    print(\"\\r\")\n",
    "for x in range(0,var-1):\n",
    "    for y in range(var-1,0,-1):\n",
    "        print(\"* \",end=\"\")\n",
    "    var = var - 1\n",
    "    print(\"\\r\")"
   ]
  },
  {
   "cell_type": "code",
   "execution_count": 13,
   "id": "b9343615",
   "metadata": {},
   "outputs": [
    {
     "name": "stdout",
     "output_type": "stream",
     "text": [
      "      *\n",
      "     **\n",
      "    ***\n",
      "   ****\n",
      "  *****\n",
      " ******\n",
      " ******\n",
      "  *****\n",
      "   ****\n",
      "    ***\n",
      "     **\n",
      "      *\n"
     ]
    }
   ],
   "source": [
    "var = 5\n",
    "for x in range(0,var+1):\n",
    "    for y in range(0, var-x+1):\n",
    "        print(' ', end='')\n",
    "    for y in range(0,x+1):\n",
    "        print(\"*\",end=\"\")\n",
    "    print(\"\\r\")\n",
    "r = var\n",
    "k = var - 1\n",
    "for x in range(0,var+1):\n",
    "    for y in range(0,var+x-4):\n",
    "        print(' ',end='')\n",
    "    k = k - 1\n",
    "    for y in range(r+1,0,-1):\n",
    "        print(\"*\",end=\"\")\n",
    "    r = r - 1\n",
    "    print(\"\\r\")"
   ]
  },
  {
   "cell_type": "code",
   "execution_count": 14,
   "id": "ee161c9b",
   "metadata": {},
   "outputs": [
    {
     "name": "stdout",
     "output_type": "stream",
     "text": [
      "   * * * * * * \n",
      "    * * * * * \n",
      "     * * * * \n",
      "      * * * \n",
      "       * * \n",
      "        * \n",
      "        * \n",
      "       * * \n",
      "      * * * \n",
      "     * * * * \n",
      "    * * * * * \n",
      "   * * * * * * \n"
     ]
    }
   ],
   "source": [
    "rows = 5\n",
    "k = rows - 2  \n",
    "for x in range(rows, -1 , -1):  \n",
    "    for y in range(k , 0 , -1):  \n",
    "        print(end=\" \")  \n",
    "    k = k + 1  \n",
    "    for j in range(0, x+1):  \n",
    "        print(\"* \" , end=\"\")  \n",
    "    print()      \n",
    "k2 = 2 * rows  - 2  \n",
    "for x in range(0 , rows+1):  \n",
    "    for y in range(0 , k2):  \n",
    "        print(end=\" \")  \n",
    "    k2 = k2 - 1  \n",
    "    for y in range(0, x + 1):  \n",
    "        print(\"* \", end=\"\")  \n",
    "    print()  "
   ]
  },
  {
   "cell_type": "code",
   "execution_count": 15,
   "id": "75fab0ea",
   "metadata": {},
   "outputs": [
    {
     "name": "stdout",
     "output_type": "stream",
     "text": [
      "****************\n",
      "*******__*******\n",
      "******____******\n",
      "*****______*****\n",
      "****________****\n",
      "***__________***\n"
     ]
    }
   ],
   "source": [
    "rows = 5    \n",
    "k = 2 * rows  - 2  \n",
    "for x in range(0 , rows+1):  \n",
    "    for y in range(0 , k):\n",
    "        print('*',end=\"\")  \n",
    "    for y in range(0, x+x,1):  \n",
    "        print(\"_\", end=\"\")  \n",
    "    for y in range(0 , k):\n",
    "        print('*',end=\"\") \n",
    "    k = k - 1\n",
    "    print()  "
   ]
  }
 ],
 "metadata": {
  "kernelspec": {
   "display_name": "Python 3",
   "language": "python",
   "name": "python3"
  },
  "language_info": {
   "codemirror_mode": {
    "name": "ipython",
    "version": 3
   },
   "file_extension": ".py",
   "mimetype": "text/x-python",
   "name": "python",
   "nbconvert_exporter": "python",
   "pygments_lexer": "ipython3",
   "version": "3.8.8"
  }
 },
 "nbformat": 4,
 "nbformat_minor": 5
}
